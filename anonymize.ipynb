{
 "cells": [
  {
   "cell_type": "code",
   "execution_count": null,
   "metadata": {},
   "outputs": [],
   "source": [
    "from utils.types import AnonMethod\n",
    "import os\n",
    "import sys\n",
    "import numpy as np\n",
    "import pandas as pd\n",
    "import matplotlib.pyplot as plt\n",
    "from metrics import NCP, DM, CAVG\n",
    "\n",
    "from algorithms import (k_anonymize,read_tree)\n",
    "from datasets import get_dataset_params\n",
    "from utils.data import read_raw, write_anon, numberize_categories\n",
    "\n",
    "from models import classifier_evaluation\n",
    "from operator import sub\n",
    "\n",
    "\n",
    "\n",
    "\n",
    "\n",
    "\n"
   ]
  },
  {
   "cell_type": "markdown",
   "metadata": {},
   "source": [
    "## Declare ***args*** to store custom parameters"
   ]
  },
  {
   "cell_type": "code",
   "execution_count": null,
   "metadata": {},
   "outputs": [],
   "source": [
    "class arg_def:\n",
    "    \n",
    "    method = 'datafly'  #anonymization algorithm\n",
    "    k = 1               #value of k\n",
    "    dataset = 'adult'   #dataset\n",
    "\n",
    "\n",
    "args = arg_def"
   ]
  },
  {
   "cell_type": "markdown",
   "metadata": {},
   "source": [
    "## Initialize the ***anonymizer*** class with the different input parameters and set directories"
   ]
  },
  {
   "cell_type": "code",
   "execution_count": null,
   "metadata": {},
   "outputs": [],
   "source": [
    "\n",
    "class Anonymizer:\n",
    "    \n",
    "    def __init__(self, args):\n",
    "\n",
    "        self.method = args.method\n",
    "        self.k = args.k\n",
    "        self.data_name = args.dataset\n",
    "\n",
    "#SETTING paths to build dir\n",
    "\n",
    "        self.csv_path = args.dataset+'.csv'\\\n",
    "\n",
    "        self.path = os.path.join('data', args.dataset) \n",
    "        self.data_path = os.path.join(self.path, self.csv_path)\n",
    "\n",
    "     \n",
    "        self.gen_path = os.path.join(self.path,'hierarchies')\n",
    "        res_folder = os.path.join('results', args.dataset, self.method)\n",
    "        self.anon_folder = res_folder  \n",
    "        \n",
    "        os.makedirs(self.anon_folder, exist_ok=True)\n",
    "\n",
    "    def anonymize(self):\n",
    "        data = pd.read_csv(self.data_path, delimiter=';')\n",
    "        ATT_NAMES = list(data.columns)\n",
    "        \n",
    "        data_params = get_dataset_params(self.data_name)\n",
    "        QI_INDEX = data_params['qi_index']\n",
    "        IS_CAT2 = data_params['is_category']\n",
    "\n",
    "        QI_NAMES = list(np.array(ATT_NAMES)[QI_INDEX])\n",
    "        IS_CAT = [True] * len(QI_INDEX) \n",
    "        SA_INDEX = [index for index in range(len(ATT_NAMES)) if index not in QI_INDEX]\n",
    "        #SA_var = [ATT_NAMES[i] for i in SA_INDEX]\n",
    "\n",
    "        ATT_TREES = read_tree(\n",
    "            self.gen_path, \n",
    "            self.data_name, \n",
    "            ATT_NAMES, \n",
    "            QI_INDEX, IS_CAT)\n",
    "\n",
    "        raw_data, header = read_raw(\n",
    "            self.path, \n",
    "            self.data_name, \n",
    "            QI_INDEX, IS_CAT)\n",
    "\n",
    "        anon_params = {\n",
    "            \"name\" :self.method,\n",
    "            \"att_trees\" :ATT_TREES,\n",
    "            \"value\" :self.k,\n",
    "            \"qi_index\" :QI_INDEX, \n",
    "            \"sa_index\" :SA_INDEX\n",
    "        }\n",
    "\n",
    "        if self.method == AnonMethod.CLASSIC_MONDRIAN:\n",
    "            mapping_dict,raw_data = numberize_categories(raw_data, QI_INDEX, SA_INDEX, IS_CAT2)\n",
    "            anon_params.update({'mapping_dict': mapping_dict})\n",
    "            anon_params.update({'is_cat': IS_CAT2})\n",
    "\n",
    "        if self.method == AnonMethod.DATAFLY:\n",
    "            anon_params.update({\n",
    "                'qi_names': QI_NAMES,\n",
    "                'csv_path': self.data_path,\n",
    "                'data_name': self.data_name,\n",
    "                'dgh_folder': self.gen_path,\n",
    "                'res_folder': self.anon_folder})\n",
    "\n",
    "        anon_params.update({'data': raw_data})\n",
    "\n",
    "        print(f\"Anonymize with {self.method}\")\n",
    "        anon_data, runtime = k_anonymize(anon_params)\n",
    "\n",
    " \n",
    "        if anon_data is not None:\n",
    "            nodes_count = write_anon(\n",
    "                self.anon_folder, \n",
    "                anon_data, \n",
    "                header, \n",
    "                self.k, \n",
    "                self.data_name)\n",
    "\n",
    "        if self.method == AnonMethod.CLASSIC_MONDRIAN:\n",
    "            ncp_score, runtime = runtime\n",
    "        else:\n",
    "            # Normalized Certainty Penalty\n",
    "            ncp = NCP(anon_data, QI_INDEX, ATT_TREES)\n",
    "            ncp_score = ncp.compute_score()\n",
    "\n",
    "        # Discernibility Metric\n",
    "\n",
    "        raw_dm = DM(raw_data, QI_INDEX, self.k)\n",
    "        raw_dm_score = raw_dm.compute_score()\n",
    "\n",
    "        anon_dm = DM(anon_data, QI_INDEX, self.k)\n",
    "        anon_dm_score = anon_dm.compute_score()\n",
    "\n",
    "        # Average Equivalence Class\n",
    "\n",
    "        raw_cavg = CAVG(raw_data, QI_INDEX, self.k)\n",
    "        raw_cavg_score = raw_cavg.compute_score()\n",
    "\n",
    "        anon_cavg = CAVG(anon_data, QI_INDEX, self.k)\n",
    "        anon_cavg_score = anon_cavg.compute_score()\n",
    "\n",
    "        print(f\"NCP score (lower is better): {ncp_score:.3f}\")\n",
    "        print(f\"CAVG score (near 1 is better): BEFORE: {raw_cavg_score:.3f} || AFTER: {anon_cavg_score:.3f}\")\n",
    "        print(f\"DM score (lower is better): BEFORE: {raw_dm_score} || AFTER: {anon_dm_score}\")\n",
    "        display(f\"Time execution: {runtime:.3f}s\")\n",
    "\n",
    "        return ncp_score, raw_cavg_score, anon_cavg_score, raw_dm_score, anon_dm_score\n",
    "\n"
   ]
  },
  {
   "cell_type": "code",
   "execution_count": null,
   "metadata": {},
   "outputs": [],
   "source": [
    "def main(args):\n",
    "    anonymizer = Anonymizer(args)\n",
    "    anonymizer.anonymize()"
   ]
  },
  {
   "cell_type": "code",
   "execution_count": null,
   "metadata": {},
   "outputs": [],
   "source": [
    "main(args)"
   ]
  },
  {
   "cell_type": "code",
   "execution_count": null,
   "metadata": {},
   "outputs": [],
   "source": [
    "methods = ['mondrian', 'classic_mondrian', 'topdown'] \n",
    "dataset = ['adult', 'cahousing', 'cmc', 'mgm', 'informs'] \n",
    "k_array = [i for i in range(10, 110, 10)]\n",
    "\n",
    "metrics = ['ncp', 'cav', 'dm']\n",
    "ml_metrics = ['knn', 'svm', 'rf']\n",
    "lcolors = ['orange', 'cyan', 'green', 'magenta']\n",
    "\n",
    "metric_names = [\n",
    "    'Normalized\\nCertainty\\n(lower is better)', \n",
    "    'Average\\nEquivalence\\n(lower is better)', \n",
    "    'Discernibility\\nMetric\\n(lower is better)']\n",
    "\n",
    "ml_metric_names = [\n",
    "    'KNN',\n",
    "    'SVMs',\n",
    "    'RFs'\n",
    "]"
   ]
  },
  {
   "cell_type": "code",
   "execution_count": null,
   "metadata": {},
   "outputs": [],
   "source": [
    "def sub_plot(result, dataset, methods, metrics, label_x, label_y, figname):\n",
    "\n",
    "    fig, axis = plt.subplots(nrows = len(metrics), ncols = len(dataset), figsize = (35, 30))\n",
    "    \n",
    "    for row, metric in enumerate(metrics):\n",
    "        for col, data in enumerate(dataset):\n",
    "            data = data.encode('utf-8')\n",
    "            sub_data = result[ (data == result['data']) ]\n",
    "            for i, method in enumerate(methods):\n",
    "                method = method.encode('utf-8')\n",
    "                sub = sub_data[ (method == sub_data['method'])]\n",
    "                axis[row, col].plot(sub['k'], sub[metric], color = lcolors[i], label=sub[args.method].decode('utf-8'))\n",
    "\n",
    "    labels_handles = {\n",
    "        label: handle for ax in fig.axes for handle, label in zip(*ax.get_legend_handles_labels())\n",
    "    }\n",
    "\n",
    "    fig.legend(\n",
    "        labels_handles.values(),\n",
    "        labels_handles.keys(),\n",
    "        loc=\"upper center\",\n",
    "        fontsize=30,\n",
    "        ncol=len(labels_handles.values()))\n",
    "\n",
    "    for ax, col in zip(axis[0], label_x):\n",
    "        ax.set_title(col.upper(), size=20)\n",
    "    \n",
    "    for ax in axis[-1]:\n",
    "        ax.set_xlabel('k', size=20)\n",
    "\n",
    "    for ax, row in zip(axis[:,0], label_y):\n",
    "        ax.set_ylabel(row, size = 30)\n",
    "        ax.get_yaxis().set_label_coords(-0.2, 0.5)\n",
    "    \n",
    "    plt.subplots_adjust(0.075, 0.05, 0.97, 0.95, 0.2, 0.25)\n",
    "    plt.savefig(figname)\n",
    "    plt.show()"
   ]
  },
  {
   "cell_type": "code",
   "execution_count": 67,
   "metadata": {},
   "outputs": [],
   "source": [
    "def sub_plot_ml(result, dataset, methods, models, label_x, label_y, figname):\n",
    "\n",
    "    fig, axis = plt.subplots(nrows = len(models), ncols = len(dataset), figsize = (35, 30))\n",
    "    \n",
    "    for col, model in enumerate(models):\n",
    "        model = model.encode('utf-8')\n",
    "        sub_data1 = result[(model == result['model'])] \n",
    "        for row, data in enumerate(dataset):\n",
    "            data = data.encode('utf-8')\n",
    "            sub_data2 = sub_data1[(data == sub_data1['data'])]\n",
    "\n",
    "            for i, method in enumerate(methods):\n",
    "                method = method.encode('utf-8')\n",
    "                sub_data3 = sub_data2[(method == sub_data2['method'])]\n",
    "                if i == 0:\n",
    "                    # Baseline score\n",
    "                    axis[col, row].plot(sub_data3['k'], sub_data3[\"ori_f1\"], '--', color = 'black', label=\"Baseline\")\n",
    "                axis[col, row].plot(sub_data3['k'], sub_data3[\"anon_f1\"], color = lcolors[i], label= sub_data3[args.method].decode('utf-8'))\n",
    "            \n",
    "    labels_handles = {\n",
    "        label: handle for ax in fig.axes for handle, label in zip(*ax.get_legend_handles_labels())\n",
    "    }\n",
    "\n",
    "    fig.legend(\n",
    "        labels_handles.values(),\n",
    "        labels_handles.keys(),\n",
    "        loc=\"upper center\",\n",
    "        fontsize=30,\n",
    "        ncol=len(labels_handles.values()))\n",
    "\n",
    "    for ax, col in zip(axis[0], label_x):\n",
    "        ax.set_title(col.upper(), size=20)\n",
    "    \n",
    "    for ax in axis[-1]:\n",
    "        ax.set_xlabel('k', size=20)\n",
    "\n",
    "    for ax, row in zip(axis[:,0], label_y):\n",
    "        ax.set_ylabel(row, size = 30)\n",
    "        ax.get_yaxis().set_label_coords(-0.2, 0.5)\n",
    "    \n",
    "    plt.subplots_adjust(0.075, 0.05, 0.97, 0.95, 0.2, 0.25)\n",
    "    plt.savefig(figname)\n",
    "    plt.show()"
   ]
  },
  {
   "cell_type": "code",
   "execution_count": 68,
   "metadata": {},
   "outputs": [],
   "source": [
    "def plot_metric(col, dataset, methods, metrics, label_x, label_y, figname):\n",
    "    result = np.genfromtxt(\"metric_result\", names = col, dtype = None)\n",
    "    sub_plot(result, dataset, methods, metrics, label_x, label_y, figname)\n",
    "\n",
    "def plot_metric_ml(col, dataset, methods, models, label_x, label_y, figname):\n",
    "    result = np.genfromtxt(\"ml_metric_result\", names = col, dtype=None)\n",
    "    sub_plot_ml(result, dataset, methods, models, label_x, label_y, figname)\n"
   ]
  },
  {
   "cell_type": "code",
   "execution_count": 69,
   "metadata": {},
   "outputs": [],
   "source": [
    "def run_anon_data():\n",
    "\n",
    "    output = open(\"metric_result\", \"w\")\n",
    "\n",
    "    for data in dataset:\n",
    "        for method in methods:\n",
    "            for k in k_array:\n",
    "                args = Namespace()\n",
    "                args.method = method\n",
    "                args.dataset = data\n",
    "                args.k = k\n",
    "                anonymizer = Anonymizer(args)\n",
    "                ncp, cav_b, cav_a, dm_b, dm_a = anonymizer.anonymize()\n",
    "                result = f'{data} {method} {k} {ncp:.3f} {cav_a:.3f} {dm_a:.3f}'\n",
    "                output.write(result + '\\n')\n",
    "    \n",
    "    output.close()"
   ]
  },
  {
   "cell_type": "code",
   "execution_count": 70,
   "metadata": {},
   "outputs": [],
   "source": [
    "def run_anon_data_ml():\n",
    "    import pandas as pd\n",
    "    data_path = './data'\n",
    "    result_path = './results'\n",
    "    output = open(\"ml_metric_result\", \"w\")\n",
    "\n",
    "    data = args.dataset\n",
    "    method = args.method\n",
    "    k = args.k\n",
    "\n",
    "   \n",
    "    gen_path = f'./data/{data}/hierarchies'\n",
    "    data_params = get_dataset_params(data)\n",
    "    QI_INDEX = data_params['qi_index']\n",
    "    IS_CAT = data_params['is_category']\n",
    "    HAS_HIERARCHIES = [True] * len(IS_CAT)\n",
    "    ori_csv = os.path.join(data_path, data, f'{data}.csv')\n",
    "    tmp_df = pd.read_csv(ori_csv, delimiter=';')\n",
    "    ATT_NAMES = list(tmp_df.columns)\n",
    "    ATT_TREES = read_tree(\n",
    "            gen_path, \n",
    "            data, \n",
    "            ATT_NAMES, \n",
    "            QI_INDEX, \n",
    "            HAS_HIERARCHIES)\n",
    "    train_index = os.path.join(data_path, data, f'{data}_train.txt')\n",
    "    val_index = os.path.join(data_path, data, f'{data}_val.txt')\n",
    "    for classifier_name in ml_metrics:\n",
    "        ori_f1 = classifier_evaluation(classifier_name, ori_csv, train_index, val_index, QI_INDEX, IS_CAT)\n",
    "       \n",
    "    \n",
    "        anon_csv = os.path.join(result_path, data, method, f'{data}_anonymized_{k}.csv')\n",
    "        tmp_att_trees = ATT_TREES\n",
    "        \n",
    "        if method == 'classic_mondrian':\n",
    "            tmp_att_trees = None\n",
    "        anon_f1 = classifier_evaluation(\n",
    "            classifier_name, \n",
    "            ori_csv, \n",
    "            train_index, \n",
    "            val_index, \n",
    "            anon_csv=anon_csv,\n",
    "            qi_index=QI_INDEX, \n",
    "            is_cat=IS_CAT,\n",
    "            att_trees=tmp_att_trees)\n",
    "\n",
    "        result = f'{data} {method} {k} {classifier_name} {ori_f1:.3f} {anon_f1:.3f}'\n",
    "        output.write(result + '\\n')\n",
    "\n",
    "    output.close()\n"
   ]
  },
  {
   "cell_type": "code",
   "execution_count": 71,
   "metadata": {},
   "outputs": [
    {
     "name": "stdout",
     "output_type": "stream",
     "text": [
      "Fitting model on original dataset\n",
      "Replacing all generalized values...\n"
     ]
    },
    {
     "name": "stderr",
     "output_type": "stream",
     "text": [
      "30162it [00:02, 11744.02it/s]\n"
     ]
    },
    {
     "name": "stdout",
     "output_type": "stream",
     "text": [
      "Fitting model on anonymized dataset\n",
      "Fitting model on original dataset\n",
      "Replacing all generalized values...\n"
     ]
    },
    {
     "name": "stderr",
     "output_type": "stream",
     "text": [
      "30162it [00:04, 6932.20it/s]\n"
     ]
    },
    {
     "name": "stdout",
     "output_type": "stream",
     "text": [
      "Fitting model on anonymized dataset\n",
      "Fitting model on original dataset\n",
      "Replacing all generalized values...\n"
     ]
    },
    {
     "name": "stderr",
     "output_type": "stream",
     "text": [
      "30162it [00:03, 9980.81it/s] \n"
     ]
    },
    {
     "name": "stdout",
     "output_type": "stream",
     "text": [
      "Fitting model on anonymized dataset\n"
     ]
    },
    {
     "name": "stderr",
     "output_type": "stream",
     "text": [
      "C:\\Users\\asimj\\AppData\\Local\\Temp\\ipykernel_15532\\1131983562.py:6: VisibleDeprecationWarning: Reading unicode strings without specifying the encoding argument is deprecated. Set the encoding, use None for the system default.\n",
      "  result = np.genfromtxt(\"ml_metric_result\", names = col, dtype=None)\n"
     ]
    },
    {
     "ename": "AttributeError",
     "evalue": "'numpy.ndarray' object has no attribute 'decode'",
     "output_type": "error",
     "traceback": [
      "\u001b[1;31m---------------------------------------------------------------------------\u001b[0m",
      "\u001b[1;31mAttributeError\u001b[0m                            Traceback (most recent call last)",
      "\u001b[1;32mc:\\Users\\asimj\\Desktop\\DP Project\\anonymize.ipynb Cell 14\u001b[0m in \u001b[0;36m<cell line: 2>\u001b[1;34m()\u001b[0m\n\u001b[0;32m      <a href='vscode-notebook-cell:/c%3A/Users/asimj/Desktop/DP%20Project/anonymize.ipynb#X23sZmlsZQ%3D%3D?line=0'>1</a>\u001b[0m run_anon_data_ml()\n\u001b[1;32m----> <a href='vscode-notebook-cell:/c%3A/Users/asimj/Desktop/DP%20Project/anonymize.ipynb#X23sZmlsZQ%3D%3D?line=1'>2</a>\u001b[0m plot_metric_ml(\n\u001b[0;32m      <a href='vscode-notebook-cell:/c%3A/Users/asimj/Desktop/DP%20Project/anonymize.ipynb#X23sZmlsZQ%3D%3D?line=2'>3</a>\u001b[0m     col \u001b[39m=\u001b[39;49m [\u001b[39m\"\u001b[39;49m\u001b[39mdata\u001b[39;49m\u001b[39m\"\u001b[39;49m, \u001b[39m\"\u001b[39;49m\u001b[39mmethod\u001b[39;49m\u001b[39m\"\u001b[39;49m, \u001b[39m\"\u001b[39;49m\u001b[39mk\u001b[39;49m\u001b[39m\"\u001b[39;49m, \u001b[39m\"\u001b[39;49m\u001b[39mmodel\u001b[39;49m\u001b[39m\"\u001b[39;49m ,\u001b[39m\"\u001b[39;49m\u001b[39mori_f1\u001b[39;49m\u001b[39m\"\u001b[39;49m, \u001b[39m\"\u001b[39;49m\u001b[39manon_f1\u001b[39;49m\u001b[39m\"\u001b[39;49m],\n\u001b[0;32m      <a href='vscode-notebook-cell:/c%3A/Users/asimj/Desktop/DP%20Project/anonymize.ipynb#X23sZmlsZQ%3D%3D?line=3'>4</a>\u001b[0m     dataset\u001b[39m=\u001b[39;49mdataset,\n\u001b[0;32m      <a href='vscode-notebook-cell:/c%3A/Users/asimj/Desktop/DP%20Project/anonymize.ipynb#X23sZmlsZQ%3D%3D?line=4'>5</a>\u001b[0m     methods\u001b[39m=\u001b[39;49mmethods,\n\u001b[0;32m      <a href='vscode-notebook-cell:/c%3A/Users/asimj/Desktop/DP%20Project/anonymize.ipynb#X23sZmlsZQ%3D%3D?line=5'>6</a>\u001b[0m     models\u001b[39m=\u001b[39;49mml_metrics,\n\u001b[0;32m      <a href='vscode-notebook-cell:/c%3A/Users/asimj/Desktop/DP%20Project/anonymize.ipynb#X23sZmlsZQ%3D%3D?line=6'>7</a>\u001b[0m     label_x\u001b[39m=\u001b[39;49m dataset,\n\u001b[0;32m      <a href='vscode-notebook-cell:/c%3A/Users/asimj/Desktop/DP%20Project/anonymize.ipynb#X23sZmlsZQ%3D%3D?line=7'>8</a>\u001b[0m     label_y \u001b[39m=\u001b[39;49m ml_metric_names,\n\u001b[0;32m      <a href='vscode-notebook-cell:/c%3A/Users/asimj/Desktop/DP%20Project/anonymize.ipynb#X23sZmlsZQ%3D%3D?line=8'>9</a>\u001b[0m     figname\u001b[39m=\u001b[39;49m\u001b[39m'\u001b[39;49m\u001b[39m./demo/metrics_ml\u001b[39;49m\u001b[39m'\u001b[39;49m\n\u001b[0;32m     <a href='vscode-notebook-cell:/c%3A/Users/asimj/Desktop/DP%20Project/anonymize.ipynb#X23sZmlsZQ%3D%3D?line=9'>10</a>\u001b[0m )\n",
      "\u001b[1;32mc:\\Users\\asimj\\Desktop\\DP Project\\anonymize.ipynb Cell 14\u001b[0m in \u001b[0;36mplot_metric_ml\u001b[1;34m(col, dataset, methods, models, label_x, label_y, figname)\u001b[0m\n\u001b[0;32m      <a href='vscode-notebook-cell:/c%3A/Users/asimj/Desktop/DP%20Project/anonymize.ipynb#X23sZmlsZQ%3D%3D?line=4'>5</a>\u001b[0m \u001b[39mdef\u001b[39;00m \u001b[39mplot_metric_ml\u001b[39m(col, dataset, methods, models, label_x, label_y, figname):\n\u001b[0;32m      <a href='vscode-notebook-cell:/c%3A/Users/asimj/Desktop/DP%20Project/anonymize.ipynb#X23sZmlsZQ%3D%3D?line=5'>6</a>\u001b[0m     result \u001b[39m=\u001b[39m np\u001b[39m.\u001b[39mgenfromtxt(\u001b[39m\"\u001b[39m\u001b[39mml_metric_result\u001b[39m\u001b[39m\"\u001b[39m, names \u001b[39m=\u001b[39m col, dtype\u001b[39m=\u001b[39m\u001b[39mNone\u001b[39;00m)\n\u001b[1;32m----> <a href='vscode-notebook-cell:/c%3A/Users/asimj/Desktop/DP%20Project/anonymize.ipynb#X23sZmlsZQ%3D%3D?line=6'>7</a>\u001b[0m     sub_plot_ml(result, dataset, methods, models, label_x, label_y, figname)\n",
      "\u001b[1;32mc:\\Users\\asimj\\Desktop\\DP Project\\anonymize.ipynb Cell 14\u001b[0m in \u001b[0;36msub_plot_ml\u001b[1;34m(result, dataset, methods, models, label_x, label_y, figname)\u001b[0m\n\u001b[0;32m     <a href='vscode-notebook-cell:/c%3A/Users/asimj/Desktop/DP%20Project/anonymize.ipynb#X23sZmlsZQ%3D%3D?line=14'>15</a>\u001b[0m             \u001b[39mif\u001b[39;00m i \u001b[39m==\u001b[39m \u001b[39m0\u001b[39m:\n\u001b[0;32m     <a href='vscode-notebook-cell:/c%3A/Users/asimj/Desktop/DP%20Project/anonymize.ipynb#X23sZmlsZQ%3D%3D?line=15'>16</a>\u001b[0m                 \u001b[39m# Baseline score\u001b[39;00m\n\u001b[0;32m     <a href='vscode-notebook-cell:/c%3A/Users/asimj/Desktop/DP%20Project/anonymize.ipynb#X23sZmlsZQ%3D%3D?line=16'>17</a>\u001b[0m                 axis[col, row]\u001b[39m.\u001b[39mplot(sub_data3[\u001b[39m'\u001b[39m\u001b[39mk\u001b[39m\u001b[39m'\u001b[39m], sub_data3[\u001b[39m\"\u001b[39m\u001b[39mori_f1\u001b[39m\u001b[39m\"\u001b[39m], \u001b[39m'\u001b[39m\u001b[39m--\u001b[39m\u001b[39m'\u001b[39m, color \u001b[39m=\u001b[39m \u001b[39m'\u001b[39m\u001b[39mblack\u001b[39m\u001b[39m'\u001b[39m, label\u001b[39m=\u001b[39m\u001b[39m\"\u001b[39m\u001b[39mBaseline\u001b[39m\u001b[39m\"\u001b[39m)\n\u001b[1;32m---> <a href='vscode-notebook-cell:/c%3A/Users/asimj/Desktop/DP%20Project/anonymize.ipynb#X23sZmlsZQ%3D%3D?line=17'>18</a>\u001b[0m             axis[col, row]\u001b[39m.\u001b[39mplot(sub_data3[\u001b[39m'\u001b[39m\u001b[39mk\u001b[39m\u001b[39m'\u001b[39m], sub_data3[\u001b[39m\"\u001b[39m\u001b[39manon_f1\u001b[39m\u001b[39m\"\u001b[39m], color \u001b[39m=\u001b[39m lcolors[i], label\u001b[39m=\u001b[39m sub_data3[\u001b[39m'\u001b[39;49m\u001b[39mmethod\u001b[39;49m\u001b[39m'\u001b[39;49m]\u001b[39m.\u001b[39;49mdecode(\u001b[39m'\u001b[39m\u001b[39mutf-8\u001b[39m\u001b[39m'\u001b[39m))\n\u001b[0;32m     <a href='vscode-notebook-cell:/c%3A/Users/asimj/Desktop/DP%20Project/anonymize.ipynb#X23sZmlsZQ%3D%3D?line=19'>20</a>\u001b[0m labels_handles \u001b[39m=\u001b[39m {\n\u001b[0;32m     <a href='vscode-notebook-cell:/c%3A/Users/asimj/Desktop/DP%20Project/anonymize.ipynb#X23sZmlsZQ%3D%3D?line=20'>21</a>\u001b[0m     label: handle \u001b[39mfor\u001b[39;00m ax \u001b[39min\u001b[39;00m fig\u001b[39m.\u001b[39maxes \u001b[39mfor\u001b[39;00m handle, label \u001b[39min\u001b[39;00m \u001b[39mzip\u001b[39m(\u001b[39m*\u001b[39max\u001b[39m.\u001b[39mget_legend_handles_labels())\n\u001b[0;32m     <a href='vscode-notebook-cell:/c%3A/Users/asimj/Desktop/DP%20Project/anonymize.ipynb#X23sZmlsZQ%3D%3D?line=21'>22</a>\u001b[0m }\n\u001b[0;32m     <a href='vscode-notebook-cell:/c%3A/Users/asimj/Desktop/DP%20Project/anonymize.ipynb#X23sZmlsZQ%3D%3D?line=23'>24</a>\u001b[0m fig\u001b[39m.\u001b[39mlegend(\n\u001b[0;32m     <a href='vscode-notebook-cell:/c%3A/Users/asimj/Desktop/DP%20Project/anonymize.ipynb#X23sZmlsZQ%3D%3D?line=24'>25</a>\u001b[0m     labels_handles\u001b[39m.\u001b[39mvalues(),\n\u001b[0;32m     <a href='vscode-notebook-cell:/c%3A/Users/asimj/Desktop/DP%20Project/anonymize.ipynb#X23sZmlsZQ%3D%3D?line=25'>26</a>\u001b[0m     labels_handles\u001b[39m.\u001b[39mkeys(),\n\u001b[0;32m     <a href='vscode-notebook-cell:/c%3A/Users/asimj/Desktop/DP%20Project/anonymize.ipynb#X23sZmlsZQ%3D%3D?line=26'>27</a>\u001b[0m     loc\u001b[39m=\u001b[39m\u001b[39m\"\u001b[39m\u001b[39mupper center\u001b[39m\u001b[39m\"\u001b[39m,\n\u001b[0;32m     <a href='vscode-notebook-cell:/c%3A/Users/asimj/Desktop/DP%20Project/anonymize.ipynb#X23sZmlsZQ%3D%3D?line=27'>28</a>\u001b[0m     fontsize\u001b[39m=\u001b[39m\u001b[39m30\u001b[39m,\n\u001b[0;32m     <a href='vscode-notebook-cell:/c%3A/Users/asimj/Desktop/DP%20Project/anonymize.ipynb#X23sZmlsZQ%3D%3D?line=28'>29</a>\u001b[0m     ncol\u001b[39m=\u001b[39m\u001b[39mlen\u001b[39m(labels_handles\u001b[39m.\u001b[39mvalues()))\n",
      "\u001b[1;31mAttributeError\u001b[0m: 'numpy.ndarray' object has no attribute 'decode'"
     ]
    },
    {
     "data": {
      "image/png": "[encoded data removed]",
      "text/plain": [
       "<Figure size 2520x2160 with 15 Axes>"
      ]
     },
     "metadata": {
      "needs_background": "light"
     },
     "output_type": "display_data"
    }
   ],
   "source": [
    "\n",
    "run_anon_data_ml()\n",
    "plot_metric_ml(\n",
    "    col = [\"data\", \"method\", \"k\", \"model\" ,\"ori_f1\", \"anon_f1\"],\n",
    "    dataset=dataset,\n",
    "    methods=methods,\n",
    "    models=ml_metrics,\n",
    "    label_x= dataset,\n",
    "    label_y = ml_metric_names,\n",
    "    figname='./demo/metrics_ml'\n",
    ")"
   ]
  }
 ],
 "metadata": {
  "kernelspec": {
   "display_name": "Python 3.10.0 64-bit",
   "language": "python",
   "name": "python3"
  },
  "language_info": {
   "codemirror_mode": {
    "name": "ipython",
    "version": 3
   },
   "file_extension": ".py",
   "mimetype": "text/x-python",
   "name": "python",
   "nbconvert_exporter": "python",
   "pygments_lexer": "ipython3",
   "version": "3.10.0"
  },
  "orig_nbformat": 4,
  "vscode": {
   "interpreter": {
    "hash": "b06ef8bb942de285d3df96351bfee1f2b60c020143ee3c3496b393e99ca4248f"
   }
  }
 },
 "nbformat": 4,
 "nbformat_minor": 2
}
